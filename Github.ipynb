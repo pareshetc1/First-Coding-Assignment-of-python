{
 "cells": [
  {
   "cell_type": "code",
   "execution_count": 1,
   "metadata": {},
   "outputs": [],
   "source": [
    "import numpy as np"
   ]
  },
  {
   "cell_type": "code",
   "execution_count": 4,
   "metadata": {},
   "outputs": [],
   "source": [
    "arr = np.random.randint(low=67,high=93,size=100)"
   ]
  },
  {
   "cell_type": "code",
   "execution_count": 5,
   "metadata": {},
   "outputs": [
    {
     "data": {
      "text/plain": [
       "array([72, 77, 70, 69, 91, 71, 82, 69, 72, 92, 77, 86, 72, 69, 86, 92, 89,\n",
       "       87, 92, 84, 91, 73, 91, 80, 80, 71, 90, 90, 83, 80, 77, 76, 76, 86,\n",
       "       80, 67, 83, 73, 83, 77, 92, 87, 91, 76, 86, 76, 78, 91, 84, 86, 82,\n",
       "       84, 92, 89, 71, 68, 71, 85, 89, 77, 89, 90, 85, 91, 84, 90, 84, 80,\n",
       "       70, 71, 84, 67, 76, 86, 78, 68, 72, 90, 85, 72, 78, 70, 92, 68, 80,\n",
       "       91, 87, 70, 86, 77, 78, 78, 82, 79, 90, 87, 73, 74, 73, 90])"
      ]
     },
     "execution_count": 5,
     "metadata": {},
     "output_type": "execute_result"
    }
   ],
   "source": [
    "arr"
   ]
  },
  {
   "cell_type": "code",
   "execution_count": null,
   "metadata": {},
   "outputs": [],
   "source": []
  }
 ],
 "metadata": {
  "kernelspec": {
   "display_name": "Python 3",
   "language": "python",
   "name": "python3"
  },
  "language_info": {
   "codemirror_mode": {
    "name": "ipython",
    "version": 3
   },
   "file_extension": ".py",
   "mimetype": "text/x-python",
   "name": "python",
   "nbconvert_exporter": "python",
   "pygments_lexer": "ipython3",
   "version": "3.8.3"
  }
 },
 "nbformat": 4,
 "nbformat_minor": 4
}
