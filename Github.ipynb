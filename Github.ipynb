{
 "cells": [
  {
   "cell_type": "code",
   "execution_count": 1,
   "metadata": {},
   "outputs": [],
   "source": [
    "import numpy as np"
   ]
  },
  {
   "cell_type": "code",
   "execution_count": 2,
   "metadata": {},
   "outputs": [],
   "source": [
    "arr = np.random.randint(low=17,high=93,size=100)"
   ]
  },
  {
   "cell_type": "code",
   "execution_count": 3,
   "metadata": {},
   "outputs": [
    {
     "data": {
      "text/plain": [
       "array([33, 90, 57, 89, 33, 47, 84, 47, 35, 86, 47, 82, 48, 59, 19, 18, 51,\n",
       "       19, 49, 66, 38, 28, 47, 35, 46, 33, 75, 68, 38, 59, 25, 23, 81, 74,\n",
       "       48, 59, 92, 34, 73, 41, 70, 68, 69, 83, 25, 29, 41, 91, 83, 33, 54,\n",
       "       82, 83, 87, 69, 63, 39, 27, 19, 45, 19, 33, 69, 44, 45, 74, 64, 92,\n",
       "       81, 70, 89, 24, 42, 42, 35, 85, 63, 60, 89, 64, 65, 67, 22, 78, 91,\n",
       "       56, 20, 51, 71, 72, 31, 44, 64, 18, 71, 59, 27, 51, 63, 58])"
      ]
     },
     "execution_count": 3,
     "metadata": {},
     "output_type": "execute_result"
    }
   ],
   "source": [
    "arr"
   ]
  },
  {
   "cell_type": "code",
   "execution_count": null,
   "metadata": {},
   "outputs": [],
   "source": []
  }
 ],
 "metadata": {
  "kernelspec": {
   "display_name": "Python 3",
   "language": "python",
   "name": "python3"
  },
  "language_info": {
   "codemirror_mode": {
    "name": "ipython",
    "version": 3
   },
   "file_extension": ".py",
   "mimetype": "text/x-python",
   "name": "python",
   "nbconvert_exporter": "python",
   "pygments_lexer": "ipython3",
   "version": "3.8.3"
  }
 },
 "nbformat": 4,
 "nbformat_minor": 4
}
