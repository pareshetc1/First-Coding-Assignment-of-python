{
 "cells": [
  {
   "cell_type": "markdown",
   "metadata": {},
   "source": [
    "### With the help of two lists (state and Count), we will creat a Dictionary using for loop"
   ]
  },
  {
   "cell_type": "code",
   "execution_count": 1,
   "metadata": {},
   "outputs": [],
   "source": [
    "state = ['Andhra_Pradesh','Arunachal Pradesh','Assam','Bihar','Chhatisgarh','Goa','Gujarat','Hariyana','Himachal Pradesh','J&k']"
   ]
  },
  {
   "cell_type": "code",
   "execution_count": 2,
   "metadata": {},
   "outputs": [],
   "source": [
    "count = [1,2,3,4,5,6,7,8,9,10]"
   ]
  },
  {
   "cell_type": "markdown",
   "metadata": {},
   "source": [
    "Let's have a another list 'number' which is a copy of list 'count', because we have to run a loop equivalent to the elements of lists 'count' or 'state'"
   ]
  },
  {
   "cell_type": "code",
   "execution_count": 3,
   "metadata": {},
   "outputs": [],
   "source": [
    "number = count.copy()"
   ]
  },
  {
   "cell_type": "markdown",
   "metadata": {},
   "source": [
    "let's Have a empty Dictionary named 'dict\""
   ]
  },
  {
   "cell_type": "code",
   "execution_count": 4,
   "metadata": {},
   "outputs": [],
   "source": [
    "dict1 = {}"
   ]
  },
  {
   "cell_type": "markdown",
   "metadata": {},
   "source": [
    "For Loop will run equivalent to the number of elements in the list 'number' and every time, it will pop elements from both the lists from location 0 index and return the value and add to the dictionary 'dict'"
   ]
  },
  {
   "cell_type": "code",
   "execution_count": 5,
   "metadata": {},
   "outputs": [],
   "source": [
    "for i in number:\n",
    "    dict1[state.pop(0)]=count.pop(0)"
   ]
  },
  {
   "cell_type": "markdown",
   "metadata": {},
   "source": [
    "#### Dictionary is Created with the name 'dict' with the elements which have key and value pairs"
   ]
  },
  {
   "cell_type": "code",
   "execution_count": 6,
   "metadata": {},
   "outputs": [
    {
     "data": {
      "text/plain": [
       "{'Andhra_Pradesh': 1,\n",
       " 'Arunachal Pradesh': 2,\n",
       " 'Assam': 3,\n",
       " 'Bihar': 4,\n",
       " 'Chhatisgarh': 5,\n",
       " 'Goa': 6,\n",
       " 'Gujarat': 7,\n",
       " 'Hariyana': 8,\n",
       " 'Himachal Pradesh': 9,\n",
       " 'J&k': 10}"
      ]
     },
     "execution_count": 6,
     "metadata": {},
     "output_type": "execute_result"
    }
   ],
   "source": [
    "dict1"
   ]
  },
  {
   "cell_type": "markdown",
   "metadata": {},
   "source": [
    "### Now we want to creat another dictionary 'dict2' which has inverted Key and values as in the dictionary 'dict1'. it means that all the values of dict1 will become keys of dict2 and similarly all the keys of dict1 will become the values of dict2 correspondingly. Let's Creat list l1 using Key-value pairs of dict1"
   ]
  },
  {
   "cell_type": "code",
   "execution_count": 7,
   "metadata": {},
   "outputs": [],
   "source": [
    "l1 = list(dict1.items())"
   ]
  },
  {
   "cell_type": "markdown",
   "metadata": {},
   "source": [
    "Let's have a tuple 't' which will store the values of list l1 and new emplty dictionary 'dict2'"
   ]
  },
  {
   "cell_type": "code",
   "execution_count": 8,
   "metadata": {},
   "outputs": [],
   "source": [
    "t = ()"
   ]
  },
  {
   "cell_type": "code",
   "execution_count": 9,
   "metadata": {},
   "outputs": [],
   "source": [
    "dict2 = {}"
   ]
  },
  {
   "cell_type": "markdown",
   "metadata": {},
   "source": [
    "For Loop will run equivalent to the number of elements in the list 'number' and every time, it will pop elements from the tuple from location 0 index and index 1 and return the value and add to the dictionary 'dict2'"
   ]
  },
  {
   "cell_type": "code",
   "execution_count": 10,
   "metadata": {},
   "outputs": [],
   "source": [
    "for i in number:\n",
    "    t = l1.pop(0)\n",
    "    dict2[t[1]] = t[0]    "
   ]
  },
  {
   "cell_type": "markdown",
   "metadata": {},
   "source": [
    "#### Now we have a dictionary 'dict2' ready which has inverted key and values compare to 'dict1'. Let's print"
   ]
  },
  {
   "cell_type": "code",
   "execution_count": 11,
   "metadata": {},
   "outputs": [
    {
     "data": {
      "text/plain": [
       "{1: 'Andhra_Pradesh',\n",
       " 2: 'Arunachal Pradesh',\n",
       " 3: 'Assam',\n",
       " 4: 'Bihar',\n",
       " 5: 'Chhatisgarh',\n",
       " 6: 'Goa',\n",
       " 7: 'Gujarat',\n",
       " 8: 'Hariyana',\n",
       " 9: 'Himachal Pradesh',\n",
       " 10: 'J&k'}"
      ]
     },
     "execution_count": 11,
     "metadata": {},
     "output_type": "execute_result"
    }
   ],
   "source": [
    "dict2"
   ]
  },
  {
   "cell_type": "code",
   "execution_count": null,
   "metadata": {},
   "outputs": [],
   "source": []
  }
 ],
 "metadata": {
  "kernelspec": {
   "display_name": "Python 3",
   "language": "python",
   "name": "python3"
  },
  "language_info": {
   "codemirror_mode": {
    "name": "ipython",
    "version": 3
   },
   "file_extension": ".py",
   "mimetype": "text/x-python",
   "name": "python",
   "nbconvert_exporter": "python",
   "pygments_lexer": "ipython3",
   "version": "3.8.3"
  }
 },
 "nbformat": 4,
 "nbformat_minor": 4
}
