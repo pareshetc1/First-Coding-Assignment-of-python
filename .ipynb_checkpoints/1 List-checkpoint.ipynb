{
 "cells": [
  {
   "cell_type": "markdown",
   "metadata": {},
   "source": [
    "## List Finctions"
   ]
  },
  {
   "cell_type": "markdown",
   "metadata": {},
   "source": [
    "### First We will Define list variable"
   ]
  },
  {
   "cell_type": "code",
   "execution_count": 1,
   "metadata": {},
   "outputs": [],
   "source": [
    "state_name = list()"
   ]
  },
  {
   "cell_type": "markdown",
   "metadata": {},
   "source": [
    "### list_name.append() command \n",
    "It will add element to the list and here list name is \"state_name\", so"
   ]
  },
  {
   "cell_type": "code",
   "execution_count": 2,
   "metadata": {},
   "outputs": [],
   "source": [
    "state_name.append(\"Andhra_Pradesh\")"
   ]
  },
  {
   "cell_type": "markdown",
   "metadata": {},
   "source": [
    "To Print and See the list Items or Elements"
   ]
  },
  {
   "cell_type": "code",
   "execution_count": 3,
   "metadata": {},
   "outputs": [
    {
     "name": "stdout",
     "output_type": "stream",
     "text": [
      "['Andhra_Pradesh']\n"
     ]
    }
   ],
   "source": [
    "print(state_name) # we can also write only list name and that also will print same thing"
   ]
  },
  {
   "cell_type": "markdown",
   "metadata": {},
   "source": [
    "Similarly add more State's Names to the list State_name"
   ]
  },
  {
   "cell_type": "code",
   "execution_count": 4,
   "metadata": {},
   "outputs": [],
   "source": [
    "state_name.append(\"Arunachal Pradesh\")"
   ]
  },
  {
   "cell_type": "code",
   "execution_count": 5,
   "metadata": {},
   "outputs": [],
   "source": [
    "state_name.append(\"Assam\")"
   ]
  },
  {
   "cell_type": "code",
   "execution_count": 6,
   "metadata": {},
   "outputs": [],
   "source": [
    "state_name.append(\"Bihar\")"
   ]
  },
  {
   "cell_type": "code",
   "execution_count": 7,
   "metadata": {},
   "outputs": [],
   "source": [
    "state_name.append(\"Chhatisgarh\")"
   ]
  },
  {
   "cell_type": "code",
   "execution_count": 8,
   "metadata": {},
   "outputs": [],
   "source": [
    "state_name.append(\"Goa\")"
   ]
  },
  {
   "cell_type": "code",
   "execution_count": 9,
   "metadata": {},
   "outputs": [],
   "source": [
    "state_name.append(\"Gujarat\")"
   ]
  },
  {
   "cell_type": "code",
   "execution_count": 10,
   "metadata": {},
   "outputs": [],
   "source": [
    "state_name.append(\"Himachal Pradesh\")"
   ]
  },
  {
   "cell_type": "code",
   "execution_count": 11,
   "metadata": {},
   "outputs": [],
   "source": [
    "state_name.append(\"Hariyana\")"
   ]
  },
  {
   "cell_type": "code",
   "execution_count": 12,
   "metadata": {},
   "outputs": [],
   "source": [
    "state_name.append(\"J&k\")"
   ]
  },
  {
   "cell_type": "code",
   "execution_count": 13,
   "metadata": {},
   "outputs": [],
   "source": [
    "state_name.append(\"Jharkhand\")"
   ]
  },
  {
   "cell_type": "code",
   "execution_count": 14,
   "metadata": {},
   "outputs": [],
   "source": [
    "state_name.append(\"Karnataka\")"
   ]
  },
  {
   "cell_type": "code",
   "execution_count": 15,
   "metadata": {},
   "outputs": [],
   "source": [
    "state_name.append(\"Kerala\")"
   ]
  },
  {
   "cell_type": "code",
   "execution_count": 16,
   "metadata": {},
   "outputs": [],
   "source": [
    "state_name.append(\"MP\")"
   ]
  },
  {
   "cell_type": "code",
   "execution_count": 17,
   "metadata": {},
   "outputs": [],
   "source": [
    "state_name.append(\"Maharastra\")"
   ]
  },
  {
   "cell_type": "code",
   "execution_count": 18,
   "metadata": {},
   "outputs": [],
   "source": [
    "state_name.append(\"Manipur\")"
   ]
  },
  {
   "cell_type": "code",
   "execution_count": 19,
   "metadata": {},
   "outputs": [],
   "source": [
    "state_name.append(\"Meghalay\")"
   ]
  },
  {
   "cell_type": "code",
   "execution_count": 20,
   "metadata": {},
   "outputs": [],
   "source": [
    "state_name.append(\"Mizoram\")"
   ]
  },
  {
   "cell_type": "code",
   "execution_count": 21,
   "metadata": {},
   "outputs": [],
   "source": [
    "state_name.append(\"Nagaland\")"
   ]
  },
  {
   "cell_type": "code",
   "execution_count": 22,
   "metadata": {},
   "outputs": [],
   "source": [
    "state_name.append(\"Orissa\")"
   ]
  },
  {
   "cell_type": "code",
   "execution_count": 23,
   "metadata": {},
   "outputs": [],
   "source": [
    "state_name.append(\"Panjab\")"
   ]
  },
  {
   "cell_type": "code",
   "execution_count": 24,
   "metadata": {},
   "outputs": [],
   "source": [
    "state_name.append(\"Rajasthan\")"
   ]
  },
  {
   "cell_type": "code",
   "execution_count": 25,
   "metadata": {},
   "outputs": [],
   "source": [
    "state_name.append(\"Sikkim\")"
   ]
  },
  {
   "cell_type": "code",
   "execution_count": 26,
   "metadata": {},
   "outputs": [],
   "source": [
    "state_name.append(\"Tamilnadu\")"
   ]
  },
  {
   "cell_type": "code",
   "execution_count": 27,
   "metadata": {},
   "outputs": [],
   "source": [
    "state_name.append(\"Telangana\")"
   ]
  },
  {
   "cell_type": "code",
   "execution_count": 28,
   "metadata": {},
   "outputs": [],
   "source": [
    "state_name.append(\"UP\")"
   ]
  },
  {
   "cell_type": "code",
   "execution_count": 29,
   "metadata": {},
   "outputs": [],
   "source": [
    "state_name.append(\"Uttrakhand\")"
   ]
  },
  {
   "cell_type": "code",
   "execution_count": 30,
   "metadata": {},
   "outputs": [],
   "source": [
    "state_name.append(\"West Bengol\")"
   ]
  },
  {
   "cell_type": "markdown",
   "metadata": {},
   "source": [
    "### list_name.copy() command\n",
    "It will copy the List \"state_name\" to other list named \"state\""
   ]
  },
  {
   "cell_type": "code",
   "execution_count": 31,
   "metadata": {},
   "outputs": [],
   "source": [
    "state = state_name.copy()"
   ]
  },
  {
   "cell_type": "code",
   "execution_count": 32,
   "metadata": {},
   "outputs": [
    {
     "data": {
      "text/plain": [
       "['Andhra_Pradesh',\n",
       " 'Arunachal Pradesh',\n",
       " 'Assam',\n",
       " 'Bihar',\n",
       " 'Chhatisgarh',\n",
       " 'Goa',\n",
       " 'Gujarat',\n",
       " 'Himachal Pradesh',\n",
       " 'Hariyana',\n",
       " 'J&k',\n",
       " 'Jharkhand',\n",
       " 'Karnataka',\n",
       " 'Kerala',\n",
       " 'MP',\n",
       " 'Maharastra',\n",
       " 'Manipur',\n",
       " 'Meghalay',\n",
       " 'Mizoram',\n",
       " 'Nagaland',\n",
       " 'Orissa',\n",
       " 'Panjab',\n",
       " 'Rajasthan',\n",
       " 'Sikkim',\n",
       " 'Tamilnadu',\n",
       " 'Telangana',\n",
       " 'UP',\n",
       " 'Uttrakhand',\n",
       " 'West Bengol']"
      ]
     },
     "execution_count": 32,
     "metadata": {},
     "output_type": "execute_result"
    }
   ],
   "source": [
    "state"
   ]
  },
  {
   "cell_type": "markdown",
   "metadata": {},
   "source": [
    "### list_name.clear() function\n",
    "It will clear all the elements of the list"
   ]
  },
  {
   "cell_type": "code",
   "execution_count": 33,
   "metadata": {},
   "outputs": [],
   "source": [
    "state.clear()"
   ]
  },
  {
   "cell_type": "markdown",
   "metadata": {},
   "source": [
    "We can see that list \"State\"is clear Now"
   ]
  },
  {
   "cell_type": "code",
   "execution_count": 34,
   "metadata": {},
   "outputs": [
    {
     "data": {
      "text/plain": [
       "[]"
      ]
     },
     "execution_count": 34,
     "metadata": {},
     "output_type": "execute_result"
    }
   ],
   "source": [
    "state"
   ]
  },
  {
   "cell_type": "markdown",
   "metadata": {},
   "source": [
    "### list_name.count() function\n",
    "it shows how many times a element is repeated in the list.\n",
    "We will Add Gujarat State One more time and we will see that how many times Gujarat state is repeated in the list using "
   ]
  },
  {
   "cell_type": "code",
   "execution_count": 35,
   "metadata": {},
   "outputs": [],
   "source": [
    "state_name.append(\"Gujarat\")"
   ]
  },
  {
   "cell_type": "code",
   "execution_count": 36,
   "metadata": {},
   "outputs": [
    {
     "data": {
      "text/plain": [
       "2"
      ]
     },
     "execution_count": 36,
     "metadata": {},
     "output_type": "execute_result"
    }
   ],
   "source": [
    "state_name.count(\"Gujarat\")"
   ]
  },
  {
   "cell_type": "markdown",
   "metadata": {},
   "source": [
    "Answer is 2 which shows that Gujarat element is repeated 2 times in the list"
   ]
  },
  {
   "cell_type": "markdown",
   "metadata": {},
   "source": [
    "### list_name.index() function \n",
    "it will show the index no of that perticular element when it encounters first, even though it is repeated in the list"
   ]
  },
  {
   "cell_type": "code",
   "execution_count": 37,
   "metadata": {},
   "outputs": [
    {
     "data": {
      "text/plain": [
       "6"
      ]
     },
     "execution_count": 37,
     "metadata": {},
     "output_type": "execute_result"
    }
   ],
   "source": [
    "state_name.index(\"Gujarat\")"
   ]
  },
  {
   "cell_type": "markdown",
   "metadata": {},
   "source": [
    "### list_name.remove() fuction.\n",
    "It removes the first occurance of element. Let's remove the element Gujarat"
   ]
  },
  {
   "cell_type": "code",
   "execution_count": 38,
   "metadata": {},
   "outputs": [],
   "source": [
    "state_name.remove(\"Gujarat\")"
   ]
  },
  {
   "cell_type": "code",
   "execution_count": 39,
   "metadata": {},
   "outputs": [
    {
     "data": {
      "text/plain": [
       "['Andhra_Pradesh',\n",
       " 'Arunachal Pradesh',\n",
       " 'Assam',\n",
       " 'Bihar',\n",
       " 'Chhatisgarh',\n",
       " 'Goa',\n",
       " 'Himachal Pradesh',\n",
       " 'Hariyana',\n",
       " 'J&k',\n",
       " 'Jharkhand',\n",
       " 'Karnataka',\n",
       " 'Kerala',\n",
       " 'MP',\n",
       " 'Maharastra',\n",
       " 'Manipur',\n",
       " 'Meghalay',\n",
       " 'Mizoram',\n",
       " 'Nagaland',\n",
       " 'Orissa',\n",
       " 'Panjab',\n",
       " 'Rajasthan',\n",
       " 'Sikkim',\n",
       " 'Tamilnadu',\n",
       " 'Telangana',\n",
       " 'UP',\n",
       " 'Uttrakhand',\n",
       " 'West Bengol',\n",
       " 'Gujarat']"
      ]
     },
     "execution_count": 39,
     "metadata": {},
     "output_type": "execute_result"
    }
   ],
   "source": [
    "state_name"
   ]
  },
  {
   "cell_type": "markdown",
   "metadata": {},
   "source": [
    "We can see that Gujarat is now Removed from 6th Location"
   ]
  },
  {
   "cell_type": "markdown",
   "metadata": {},
   "source": [
    "### list_name.reverse()\n",
    "It will reverse the order of the list"
   ]
  },
  {
   "cell_type": "code",
   "execution_count": 40,
   "metadata": {},
   "outputs": [],
   "source": [
    "state_name.reverse()"
   ]
  },
  {
   "cell_type": "code",
   "execution_count": 41,
   "metadata": {},
   "outputs": [
    {
     "data": {
      "text/plain": [
       "['Gujarat',\n",
       " 'West Bengol',\n",
       " 'Uttrakhand',\n",
       " 'UP',\n",
       " 'Telangana',\n",
       " 'Tamilnadu',\n",
       " 'Sikkim',\n",
       " 'Rajasthan',\n",
       " 'Panjab',\n",
       " 'Orissa',\n",
       " 'Nagaland',\n",
       " 'Mizoram',\n",
       " 'Meghalay',\n",
       " 'Manipur',\n",
       " 'Maharastra',\n",
       " 'MP',\n",
       " 'Kerala',\n",
       " 'Karnataka',\n",
       " 'Jharkhand',\n",
       " 'J&k',\n",
       " 'Hariyana',\n",
       " 'Himachal Pradesh',\n",
       " 'Goa',\n",
       " 'Chhatisgarh',\n",
       " 'Bihar',\n",
       " 'Assam',\n",
       " 'Arunachal Pradesh',\n",
       " 'Andhra_Pradesh']"
      ]
     },
     "execution_count": 41,
     "metadata": {},
     "output_type": "execute_result"
    }
   ],
   "source": [
    "state_name"
   ]
  },
  {
   "cell_type": "markdown",
   "metadata": {},
   "source": [
    "List is Reversed"
   ]
  },
  {
   "cell_type": "markdown",
   "metadata": {},
   "source": [
    "### list_name.sort() function\n",
    "It will sort the date in ascending Order"
   ]
  },
  {
   "cell_type": "code",
   "execution_count": 42,
   "metadata": {},
   "outputs": [],
   "source": [
    "state_name.sort()"
   ]
  },
  {
   "cell_type": "code",
   "execution_count": 43,
   "metadata": {},
   "outputs": [
    {
     "data": {
      "text/plain": [
       "['Andhra_Pradesh',\n",
       " 'Arunachal Pradesh',\n",
       " 'Assam',\n",
       " 'Bihar',\n",
       " 'Chhatisgarh',\n",
       " 'Goa',\n",
       " 'Gujarat',\n",
       " 'Hariyana',\n",
       " 'Himachal Pradesh',\n",
       " 'J&k',\n",
       " 'Jharkhand',\n",
       " 'Karnataka',\n",
       " 'Kerala',\n",
       " 'MP',\n",
       " 'Maharastra',\n",
       " 'Manipur',\n",
       " 'Meghalay',\n",
       " 'Mizoram',\n",
       " 'Nagaland',\n",
       " 'Orissa',\n",
       " 'Panjab',\n",
       " 'Rajasthan',\n",
       " 'Sikkim',\n",
       " 'Tamilnadu',\n",
       " 'Telangana',\n",
       " 'UP',\n",
       " 'Uttrakhand',\n",
       " 'West Bengol']"
      ]
     },
     "execution_count": 43,
     "metadata": {},
     "output_type": "execute_result"
    }
   ],
   "source": [
    "state_name"
   ]
  },
  {
   "cell_type": "markdown",
   "metadata": {},
   "source": [
    "### list_name.insert()\n",
    "It will insert The \"UT_Delhi in the list just after the index 3"
   ]
  },
  {
   "cell_type": "code",
   "execution_count": 44,
   "metadata": {},
   "outputs": [],
   "source": [
    "state_name.insert(3,\"UT_Delhi\")"
   ]
  },
  {
   "cell_type": "code",
   "execution_count": 45,
   "metadata": {},
   "outputs": [
    {
     "data": {
      "text/plain": [
       "['Andhra_Pradesh',\n",
       " 'Arunachal Pradesh',\n",
       " 'Assam',\n",
       " 'UT_Delhi',\n",
       " 'Bihar',\n",
       " 'Chhatisgarh',\n",
       " 'Goa',\n",
       " 'Gujarat',\n",
       " 'Hariyana',\n",
       " 'Himachal Pradesh',\n",
       " 'J&k',\n",
       " 'Jharkhand',\n",
       " 'Karnataka',\n",
       " 'Kerala',\n",
       " 'MP',\n",
       " 'Maharastra',\n",
       " 'Manipur',\n",
       " 'Meghalay',\n",
       " 'Mizoram',\n",
       " 'Nagaland',\n",
       " 'Orissa',\n",
       " 'Panjab',\n",
       " 'Rajasthan',\n",
       " 'Sikkim',\n",
       " 'Tamilnadu',\n",
       " 'Telangana',\n",
       " 'UP',\n",
       " 'Uttrakhand',\n",
       " 'West Bengol']"
      ]
     },
     "execution_count": 45,
     "metadata": {},
     "output_type": "execute_result"
    }
   ],
   "source": [
    "state_name"
   ]
  },
  {
   "cell_type": "markdown",
   "metadata": {},
   "source": [
    "###  list_name.pop() command\n",
    "It will remove the element from the list and return its value"
   ]
  },
  {
   "cell_type": "code",
   "execution_count": 46,
   "metadata": {},
   "outputs": [],
   "source": [
    "y = state_name.pop(3)"
   ]
  },
  {
   "cell_type": "code",
   "execution_count": 47,
   "metadata": {},
   "outputs": [
    {
     "data": {
      "text/plain": [
       "'UT_Delhi'"
      ]
     },
     "execution_count": 47,
     "metadata": {},
     "output_type": "execute_result"
    }
   ],
   "source": [
    "y"
   ]
  },
  {
   "cell_type": "code",
   "execution_count": 48,
   "metadata": {},
   "outputs": [
    {
     "data": {
      "text/plain": [
       "['Andhra_Pradesh',\n",
       " 'Arunachal Pradesh',\n",
       " 'Assam',\n",
       " 'Bihar',\n",
       " 'Chhatisgarh',\n",
       " 'Goa',\n",
       " 'Gujarat',\n",
       " 'Hariyana',\n",
       " 'Himachal Pradesh',\n",
       " 'J&k',\n",
       " 'Jharkhand',\n",
       " 'Karnataka',\n",
       " 'Kerala',\n",
       " 'MP',\n",
       " 'Maharastra',\n",
       " 'Manipur',\n",
       " 'Meghalay',\n",
       " 'Mizoram',\n",
       " 'Nagaland',\n",
       " 'Orissa',\n",
       " 'Panjab',\n",
       " 'Rajasthan',\n",
       " 'Sikkim',\n",
       " 'Tamilnadu',\n",
       " 'Telangana',\n",
       " 'UP',\n",
       " 'Uttrakhand',\n",
       " 'West Bengol']"
      ]
     },
     "execution_count": 48,
     "metadata": {},
     "output_type": "execute_result"
    }
   ],
   "source": [
    "state_name"
   ]
  },
  {
   "cell_type": "markdown",
   "metadata": {},
   "source": [
    "We can see \"UT_Delhi\" is removed from the list"
   ]
  }
 ],
 "metadata": {
  "kernelspec": {
   "display_name": "Python 3",
   "language": "python",
   "name": "python3"
  },
  "language_info": {
   "codemirror_mode": {
    "name": "ipython",
    "version": 3
   },
   "file_extension": ".py",
   "mimetype": "text/x-python",
   "name": "python",
   "nbconvert_exporter": "python",
   "pygments_lexer": "ipython3",
   "version": "3.8.3"
  }
 },
 "nbformat": 4,
 "nbformat_minor": 4
}
