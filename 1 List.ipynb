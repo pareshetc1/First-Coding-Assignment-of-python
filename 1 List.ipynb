{
 "cells": [
  {
   "cell_type": "markdown",
   "metadata": {},
   "source": [
    "List Finction will Be Explained One By One"
   ]
  },
  {
   "cell_type": "markdown",
   "metadata": {},
   "source": [
    "First We will Define list variable"
   ]
  },
  {
   "cell_type": "code",
   "execution_count": 7,
   "metadata": {},
   "outputs": [],
   "source": [
    "state_name = list()"
   ]
  },
  {
   "cell_type": "markdown",
   "metadata": {},
   "source": [
    "1 we will add Element to the List using list_name.append() and here list name is \"state_name\", so"
   ]
  },
  {
   "cell_type": "code",
   "execution_count": 8,
   "metadata": {},
   "outputs": [],
   "source": [
    "state_name.append(\"Andhra_Pradesh\")"
   ]
  },
  {
   "cell_type": "markdown",
   "metadata": {},
   "source": [
    "To Print and See the list Items or Elements"
   ]
  },
  {
   "cell_type": "code",
   "execution_count": 9,
   "metadata": {},
   "outputs": [
    {
     "name": "stdout",
     "output_type": "stream",
     "text": [
      "['Andhra_Pradesh']\n"
     ]
    }
   ],
   "source": [
    "print(state_name)"
   ]
  },
  {
   "cell_type": "markdown",
   "metadata": {},
   "source": [
    "Similarly Let's Add more State's Names to the list State_name"
   ]
  },
  {
   "cell_type": "code",
   "execution_count": 11,
   "metadata": {},
   "outputs": [],
   "source": [
    "state_name.append(\"Arunachal Pradesh\")"
   ]
  },
  {
   "cell_type": "code",
   "execution_count": 12,
   "metadata": {},
   "outputs": [],
   "source": [
    "state_name.append(\"Assam\")"
   ]
  },
  {
   "cell_type": "code",
   "execution_count": 13,
   "metadata": {},
   "outputs": [],
   "source": [
    "state_name.append(\"Bihar\")"
   ]
  },
  {
   "cell_type": "code",
   "execution_count": 14,
   "metadata": {},
   "outputs": [],
   "source": [
    "state_name.append(\"Chhatisgarh\")"
   ]
  },
  {
   "cell_type": "code",
   "execution_count": 15,
   "metadata": {},
   "outputs": [],
   "source": [
    "state_name.append(\"Goa\")"
   ]
  },
  {
   "cell_type": "code",
   "execution_count": 16,
   "metadata": {},
   "outputs": [],
   "source": [
    "state_name.append(\"Gujarat\")"
   ]
  },
  {
   "cell_type": "code",
   "execution_count": 17,
   "metadata": {},
   "outputs": [],
   "source": [
    "state_name.append(\"Himachal Pradesh\")"
   ]
  },
  {
   "cell_type": "code",
   "execution_count": 18,
   "metadata": {},
   "outputs": [],
   "source": [
    "state_name.append(\"Hariyana\")"
   ]
  },
  {
   "cell_type": "code",
   "execution_count": 19,
   "metadata": {},
   "outputs": [],
   "source": [
    "state_name.append(\"J&k\")"
   ]
  },
  {
   "cell_type": "code",
   "execution_count": 20,
   "metadata": {},
   "outputs": [],
   "source": [
    "state_name.append(\"Jharkhand\")"
   ]
  },
  {
   "cell_type": "code",
   "execution_count": 65,
   "metadata": {},
   "outputs": [],
   "source": [
    "state_name.append(\"Karnataka\")"
   ]
  },
  {
   "cell_type": "code",
   "execution_count": 66,
   "metadata": {},
   "outputs": [],
   "source": [
    "state_name.append(\"Kerala\")"
   ]
  },
  {
   "cell_type": "code",
   "execution_count": 67,
   "metadata": {},
   "outputs": [],
   "source": [
    "state_name.append(\"MP\")"
   ]
  },
  {
   "cell_type": "code",
   "execution_count": 68,
   "metadata": {},
   "outputs": [],
   "source": [
    "state_name.append(\"Maharastra\")"
   ]
  },
  {
   "cell_type": "code",
   "execution_count": 69,
   "metadata": {},
   "outputs": [],
   "source": [
    "state_name.append(\"Manipur\")"
   ]
  },
  {
   "cell_type": "code",
   "execution_count": 70,
   "metadata": {},
   "outputs": [],
   "source": [
    "state_name.append(\"Meghalay\")"
   ]
  },
  {
   "cell_type": "code",
   "execution_count": 71,
   "metadata": {},
   "outputs": [],
   "source": [
    "state_name.append(\"Mizoram\")"
   ]
  },
  {
   "cell_type": "code",
   "execution_count": 72,
   "metadata": {},
   "outputs": [],
   "source": [
    "state_name.append(\"Nagaland\")"
   ]
  },
  {
   "cell_type": "code",
   "execution_count": 73,
   "metadata": {},
   "outputs": [],
   "source": [
    "state_name.append(\"Orissa\")"
   ]
  },
  {
   "cell_type": "code",
   "execution_count": 74,
   "metadata": {},
   "outputs": [],
   "source": [
    "state_name.append(\"Panjab\")"
   ]
  },
  {
   "cell_type": "code",
   "execution_count": 75,
   "metadata": {},
   "outputs": [],
   "source": [
    "state_name.append(\"Rajasthan\")"
   ]
  },
  {
   "cell_type": "code",
   "execution_count": 76,
   "metadata": {},
   "outputs": [],
   "source": [
    "state_name.append(\"Sikkim\")"
   ]
  },
  {
   "cell_type": "code",
   "execution_count": 77,
   "metadata": {},
   "outputs": [],
   "source": [
    "state_name.append(\"Tamilnadu\")"
   ]
  },
  {
   "cell_type": "code",
   "execution_count": 78,
   "metadata": {},
   "outputs": [],
   "source": [
    "state_name.append(\"Telangana\")"
   ]
  },
  {
   "cell_type": "code",
   "execution_count": 79,
   "metadata": {},
   "outputs": [],
   "source": [
    "state_name.append(\"UP\")"
   ]
  },
  {
   "cell_type": "code",
   "execution_count": 80,
   "metadata": {},
   "outputs": [],
   "source": [
    "state_name.append(\"Uttrakhand\")"
   ]
  },
  {
   "cell_type": "code",
   "execution_count": 81,
   "metadata": {},
   "outputs": [],
   "source": [
    "state_name.append(\"West Bengol\")"
   ]
  },
  {
   "cell_type": "markdown",
   "metadata": {},
   "source": [
    "We can also Print the list just By stating the name of list"
   ]
  },
  {
   "cell_type": "code",
   "execution_count": 82,
   "metadata": {},
   "outputs": [
    {
     "data": {
      "text/plain": [
       "['Andhra_Pradesh',\n",
       " 'Arunachal Pradesh',\n",
       " 'Assam',\n",
       " 'Bihar',\n",
       " 'Chhatisgarh',\n",
       " 'Goa',\n",
       " 'Gujarat',\n",
       " 'Hariyana',\n",
       " 'Himachal Pradesh',\n",
       " 'J&k',\n",
       " 'Jharkhand',\n",
       " 'Kerala',\n",
       " 'MP',\n",
       " 'Maharastra',\n",
       " 'Manipur',\n",
       " 'Meghalay',\n",
       " 'Mizoram',\n",
       " 'Nagaland',\n",
       " 'Orissa',\n",
       " 'Panjab',\n",
       " 'Rajasthan',\n",
       " 'Sikkim',\n",
       " 'Tamilnadu',\n",
       " 'Telangana',\n",
       " 'UP',\n",
       " 'Uttrakhand',\n",
       " 'West Bengol',\n",
       " 'karnataka',\n",
       " 'Karnataka',\n",
       " 'Kerala',\n",
       " 'MP',\n",
       " 'Maharastra',\n",
       " 'Manipur',\n",
       " 'Meghalay',\n",
       " 'Mizoram',\n",
       " 'Nagaland',\n",
       " 'Orissa',\n",
       " 'Panjab',\n",
       " 'Rajasthan',\n",
       " 'Sikkim',\n",
       " 'Tamilnadu',\n",
       " 'Telangana',\n",
       " 'UP',\n",
       " 'Uttrakhand',\n",
       " 'West Bengol']"
      ]
     },
     "execution_count": 82,
     "metadata": {},
     "output_type": "execute_result"
    }
   ],
   "source": [
    "state_name"
   ]
  },
  {
   "cell_type": "markdown",
   "metadata": {},
   "source": [
    "2 we will copy the List using state_name to other variabel named \"state\" using list_name.copy() and here list name is \"state_name\", so"
   ]
  },
  {
   "cell_type": "code",
   "execution_count": 83,
   "metadata": {},
   "outputs": [],
   "source": [
    "state = state_name.copy()"
   ]
  },
  {
   "cell_type": "code",
   "execution_count": 84,
   "metadata": {},
   "outputs": [
    {
     "data": {
      "text/plain": [
       "['Andhra_Pradesh',\n",
       " 'Arunachal Pradesh',\n",
       " 'Assam',\n",
       " 'Bihar',\n",
       " 'Chhatisgarh',\n",
       " 'Goa',\n",
       " 'Gujarat',\n",
       " 'Hariyana',\n",
       " 'Himachal Pradesh',\n",
       " 'J&k',\n",
       " 'Jharkhand',\n",
       " 'Kerala',\n",
       " 'MP',\n",
       " 'Maharastra',\n",
       " 'Manipur',\n",
       " 'Meghalay',\n",
       " 'Mizoram',\n",
       " 'Nagaland',\n",
       " 'Orissa',\n",
       " 'Panjab',\n",
       " 'Rajasthan',\n",
       " 'Sikkim',\n",
       " 'Tamilnadu',\n",
       " 'Telangana',\n",
       " 'UP',\n",
       " 'Uttrakhand',\n",
       " 'West Bengol',\n",
       " 'karnataka',\n",
       " 'Karnataka',\n",
       " 'Kerala',\n",
       " 'MP',\n",
       " 'Maharastra',\n",
       " 'Manipur',\n",
       " 'Meghalay',\n",
       " 'Mizoram',\n",
       " 'Nagaland',\n",
       " 'Orissa',\n",
       " 'Panjab',\n",
       " 'Rajasthan',\n",
       " 'Sikkim',\n",
       " 'Tamilnadu',\n",
       " 'Telangana',\n",
       " 'UP',\n",
       " 'Uttrakhand',\n",
       " 'West Bengol']"
      ]
     },
     "execution_count": 84,
     "metadata": {},
     "output_type": "execute_result"
    }
   ],
   "source": [
    "state"
   ]
  },
  {
   "cell_type": "markdown",
   "metadata": {},
   "source": [
    "3 Now We will use list_name.clear() function to clear the list"
   ]
  },
  {
   "cell_type": "code",
   "execution_count": 85,
   "metadata": {},
   "outputs": [],
   "source": [
    "state.clear()"
   ]
  },
  {
   "cell_type": "markdown",
   "metadata": {},
   "source": [
    "We can see that list \"State\"is clear Now"
   ]
  },
  {
   "cell_type": "code",
   "execution_count": 86,
   "metadata": {},
   "outputs": [
    {
     "data": {
      "text/plain": [
       "[]"
      ]
     },
     "execution_count": 86,
     "metadata": {},
     "output_type": "execute_result"
    }
   ],
   "source": [
    "state"
   ]
  },
  {
   "cell_type": "markdown",
   "metadata": {},
   "source": [
    "Now We will Add Gujarat State One more time andwe will see that how many times Gujarat state is repeated in the list using list_name.count() function"
   ]
  },
  {
   "cell_type": "code",
   "execution_count": 87,
   "metadata": {},
   "outputs": [],
   "source": [
    "state_name.append(\"Gujarat\")"
   ]
  },
  {
   "cell_type": "code",
   "execution_count": 88,
   "metadata": {},
   "outputs": [
    {
     "data": {
      "text/plain": [
       "2"
      ]
     },
     "execution_count": 88,
     "metadata": {},
     "output_type": "execute_result"
    }
   ],
   "source": [
    "state_name.count(\"Gujarat\")"
   ]
  },
  {
   "cell_type": "markdown",
   "metadata": {},
   "source": [
    "Answer is 2 which shows that Gujarat word is repeated 2 times in the list"
   ]
  },
  {
   "cell_type": "markdown",
   "metadata": {},
   "source": [
    "list_name.index() function will show the index no of that perticular element when it encounters first, even though it is repeated in the list"
   ]
  },
  {
   "cell_type": "code",
   "execution_count": 89,
   "metadata": {},
   "outputs": [
    {
     "data": {
      "text/plain": [
       "6"
      ]
     },
     "execution_count": 89,
     "metadata": {},
     "output_type": "execute_result"
    }
   ],
   "source": [
    "state_name.index(\"Gujarat\")"
   ]
  },
  {
   "cell_type": "markdown",
   "metadata": {},
   "source": [
    "Now we will remove the element Gujarat using list_name.remove() fuction. it removes the first occurance of element"
   ]
  },
  {
   "cell_type": "code",
   "execution_count": 90,
   "metadata": {},
   "outputs": [],
   "source": [
    "state_name.remove(\"Gujarat\")"
   ]
  },
  {
   "cell_type": "code",
   "execution_count": 91,
   "metadata": {},
   "outputs": [
    {
     "data": {
      "text/plain": [
       "['Andhra_Pradesh',\n",
       " 'Arunachal Pradesh',\n",
       " 'Assam',\n",
       " 'Bihar',\n",
       " 'Chhatisgarh',\n",
       " 'Goa',\n",
       " 'Hariyana',\n",
       " 'Himachal Pradesh',\n",
       " 'J&k',\n",
       " 'Jharkhand',\n",
       " 'Kerala',\n",
       " 'MP',\n",
       " 'Maharastra',\n",
       " 'Manipur',\n",
       " 'Meghalay',\n",
       " 'Mizoram',\n",
       " 'Nagaland',\n",
       " 'Orissa',\n",
       " 'Panjab',\n",
       " 'Rajasthan',\n",
       " 'Sikkim',\n",
       " 'Tamilnadu',\n",
       " 'Telangana',\n",
       " 'UP',\n",
       " 'Uttrakhand',\n",
       " 'West Bengol',\n",
       " 'karnataka',\n",
       " 'Karnataka',\n",
       " 'Kerala',\n",
       " 'MP',\n",
       " 'Maharastra',\n",
       " 'Manipur',\n",
       " 'Meghalay',\n",
       " 'Mizoram',\n",
       " 'Nagaland',\n",
       " 'Orissa',\n",
       " 'Panjab',\n",
       " 'Rajasthan',\n",
       " 'Sikkim',\n",
       " 'Tamilnadu',\n",
       " 'Telangana',\n",
       " 'UP',\n",
       " 'Uttrakhand',\n",
       " 'West Bengol',\n",
       " 'Gujarat']"
      ]
     },
     "execution_count": 91,
     "metadata": {},
     "output_type": "execute_result"
    }
   ],
   "source": [
    "state_name"
   ]
  },
  {
   "cell_type": "markdown",
   "metadata": {},
   "source": [
    "We can see that Gujarat is now Removed from 6th Location"
   ]
  },
  {
   "cell_type": "markdown",
   "metadata": {},
   "source": [
    "Let's see the finction list_name.reverse()"
   ]
  },
  {
   "cell_type": "code",
   "execution_count": 92,
   "metadata": {},
   "outputs": [],
   "source": [
    "state_name.reverse()"
   ]
  },
  {
   "cell_type": "code",
   "execution_count": 93,
   "metadata": {},
   "outputs": [
    {
     "data": {
      "text/plain": [
       "['Gujarat',\n",
       " 'West Bengol',\n",
       " 'Uttrakhand',\n",
       " 'UP',\n",
       " 'Telangana',\n",
       " 'Tamilnadu',\n",
       " 'Sikkim',\n",
       " 'Rajasthan',\n",
       " 'Panjab',\n",
       " 'Orissa',\n",
       " 'Nagaland',\n",
       " 'Mizoram',\n",
       " 'Meghalay',\n",
       " 'Manipur',\n",
       " 'Maharastra',\n",
       " 'MP',\n",
       " 'Kerala',\n",
       " 'Karnataka',\n",
       " 'karnataka',\n",
       " 'West Bengol',\n",
       " 'Uttrakhand',\n",
       " 'UP',\n",
       " 'Telangana',\n",
       " 'Tamilnadu',\n",
       " 'Sikkim',\n",
       " 'Rajasthan',\n",
       " 'Panjab',\n",
       " 'Orissa',\n",
       " 'Nagaland',\n",
       " 'Mizoram',\n",
       " 'Meghalay',\n",
       " 'Manipur',\n",
       " 'Maharastra',\n",
       " 'MP',\n",
       " 'Kerala',\n",
       " 'Jharkhand',\n",
       " 'J&k',\n",
       " 'Himachal Pradesh',\n",
       " 'Hariyana',\n",
       " 'Goa',\n",
       " 'Chhatisgarh',\n",
       " 'Bihar',\n",
       " 'Assam',\n",
       " 'Arunachal Pradesh',\n",
       " 'Andhra_Pradesh']"
      ]
     },
     "execution_count": 93,
     "metadata": {},
     "output_type": "execute_result"
    }
   ],
   "source": [
    "state_name"
   ]
  },
  {
   "cell_type": "markdown",
   "metadata": {},
   "source": [
    "List is Reversed"
   ]
  },
  {
   "cell_type": "markdown",
   "metadata": {},
   "source": [
    "Let's sort the list using list_name.sort() function"
   ]
  },
  {
   "cell_type": "code",
   "execution_count": 94,
   "metadata": {},
   "outputs": [],
   "source": [
    "state_name.sort()"
   ]
  },
  {
   "cell_type": "code",
   "execution_count": 95,
   "metadata": {},
   "outputs": [
    {
     "data": {
      "text/plain": [
       "['Andhra_Pradesh',\n",
       " 'Arunachal Pradesh',\n",
       " 'Assam',\n",
       " 'Bihar',\n",
       " 'Chhatisgarh',\n",
       " 'Goa',\n",
       " 'Gujarat',\n",
       " 'Hariyana',\n",
       " 'Himachal Pradesh',\n",
       " 'J&k',\n",
       " 'Jharkhand',\n",
       " 'Karnataka',\n",
       " 'Kerala',\n",
       " 'Kerala',\n",
       " 'MP',\n",
       " 'MP',\n",
       " 'Maharastra',\n",
       " 'Maharastra',\n",
       " 'Manipur',\n",
       " 'Manipur',\n",
       " 'Meghalay',\n",
       " 'Meghalay',\n",
       " 'Mizoram',\n",
       " 'Mizoram',\n",
       " 'Nagaland',\n",
       " 'Nagaland',\n",
       " 'Orissa',\n",
       " 'Orissa',\n",
       " 'Panjab',\n",
       " 'Panjab',\n",
       " 'Rajasthan',\n",
       " 'Rajasthan',\n",
       " 'Sikkim',\n",
       " 'Sikkim',\n",
       " 'Tamilnadu',\n",
       " 'Tamilnadu',\n",
       " 'Telangana',\n",
       " 'Telangana',\n",
       " 'UP',\n",
       " 'UP',\n",
       " 'Uttrakhand',\n",
       " 'Uttrakhand',\n",
       " 'West Bengol',\n",
       " 'West Bengol',\n",
       " 'karnataka']"
      ]
     },
     "execution_count": 95,
     "metadata": {},
     "output_type": "execute_result"
    }
   ],
   "source": [
    "state_name"
   ]
  },
  {
   "cell_type": "markdown",
   "metadata": {},
   "source": [
    "Now let's see insert and POP function"
   ]
  },
  {
   "cell_type": "code",
   "execution_count": 96,
   "metadata": {},
   "outputs": [],
   "source": [
    "state_name.insert(3,\"UT_Delhi\")"
   ]
  },
  {
   "cell_type": "code",
   "execution_count": 97,
   "metadata": {},
   "outputs": [
    {
     "data": {
      "text/plain": [
       "['Andhra_Pradesh',\n",
       " 'Arunachal Pradesh',\n",
       " 'Assam',\n",
       " 'UT_Delhi',\n",
       " 'Bihar',\n",
       " 'Chhatisgarh',\n",
       " 'Goa',\n",
       " 'Gujarat',\n",
       " 'Hariyana',\n",
       " 'Himachal Pradesh',\n",
       " 'J&k',\n",
       " 'Jharkhand',\n",
       " 'Karnataka',\n",
       " 'Kerala',\n",
       " 'Kerala',\n",
       " 'MP',\n",
       " 'MP',\n",
       " 'Maharastra',\n",
       " 'Maharastra',\n",
       " 'Manipur',\n",
       " 'Manipur',\n",
       " 'Meghalay',\n",
       " 'Meghalay',\n",
       " 'Mizoram',\n",
       " 'Mizoram',\n",
       " 'Nagaland',\n",
       " 'Nagaland',\n",
       " 'Orissa',\n",
       " 'Orissa',\n",
       " 'Panjab',\n",
       " 'Panjab',\n",
       " 'Rajasthan',\n",
       " 'Rajasthan',\n",
       " 'Sikkim',\n",
       " 'Sikkim',\n",
       " 'Tamilnadu',\n",
       " 'Tamilnadu',\n",
       " 'Telangana',\n",
       " 'Telangana',\n",
       " 'UP',\n",
       " 'UP',\n",
       " 'Uttrakhand',\n",
       " 'Uttrakhand',\n",
       " 'West Bengol',\n",
       " 'West Bengol',\n",
       " 'karnataka']"
      ]
     },
     "execution_count": 97,
     "metadata": {},
     "output_type": "execute_result"
    }
   ],
   "source": [
    "state_name"
   ]
  },
  {
   "cell_type": "code",
   "execution_count": 98,
   "metadata": {},
   "outputs": [],
   "source": [
    "y = state_name.pop(4)"
   ]
  },
  {
   "cell_type": "code",
   "execution_count": 99,
   "metadata": {},
   "outputs": [
    {
     "data": {
      "text/plain": [
       "'Bihar'"
      ]
     },
     "execution_count": 99,
     "metadata": {},
     "output_type": "execute_result"
    }
   ],
   "source": [
    "y"
   ]
  },
  {
   "cell_type": "code",
   "execution_count": 100,
   "metadata": {},
   "outputs": [
    {
     "data": {
      "text/plain": [
       "['Andhra_Pradesh',\n",
       " 'Arunachal Pradesh',\n",
       " 'Assam',\n",
       " 'UT_Delhi',\n",
       " 'Chhatisgarh',\n",
       " 'Goa',\n",
       " 'Gujarat',\n",
       " 'Hariyana',\n",
       " 'Himachal Pradesh',\n",
       " 'J&k',\n",
       " 'Jharkhand',\n",
       " 'Karnataka',\n",
       " 'Kerala',\n",
       " 'Kerala',\n",
       " 'MP',\n",
       " 'MP',\n",
       " 'Maharastra',\n",
       " 'Maharastra',\n",
       " 'Manipur',\n",
       " 'Manipur',\n",
       " 'Meghalay',\n",
       " 'Meghalay',\n",
       " 'Mizoram',\n",
       " 'Mizoram',\n",
       " 'Nagaland',\n",
       " 'Nagaland',\n",
       " 'Orissa',\n",
       " 'Orissa',\n",
       " 'Panjab',\n",
       " 'Panjab',\n",
       " 'Rajasthan',\n",
       " 'Rajasthan',\n",
       " 'Sikkim',\n",
       " 'Sikkim',\n",
       " 'Tamilnadu',\n",
       " 'Tamilnadu',\n",
       " 'Telangana',\n",
       " 'Telangana',\n",
       " 'UP',\n",
       " 'UP',\n",
       " 'Uttrakhand',\n",
       " 'Uttrakhand',\n",
       " 'West Bengol',\n",
       " 'West Bengol',\n",
       " 'karnataka']"
      ]
     },
     "execution_count": 100,
     "metadata": {},
     "output_type": "execute_result"
    }
   ],
   "source": [
    "state_name\n"
   ]
  },
  {
   "cell_type": "markdown",
   "metadata": {},
   "source": [
    "We can see bihar is removed from the list"
   ]
  },
  {
   "cell_type": "code",
   "execution_count": null,
   "metadata": {},
   "outputs": [],
   "source": []
  }
 ],
 "metadata": {
  "kernelspec": {
   "display_name": "Python 3",
   "language": "python",
   "name": "python3"
  },
  "language_info": {
   "codemirror_mode": {
    "name": "ipython",
    "version": 3
   },
   "file_extension": ".py",
   "mimetype": "text/x-python",
   "name": "python",
   "nbconvert_exporter": "python",
   "pygments_lexer": "ipython3",
   "version": "3.8.3"
  }
 },
 "nbformat": 4,
 "nbformat_minor": 4
}
